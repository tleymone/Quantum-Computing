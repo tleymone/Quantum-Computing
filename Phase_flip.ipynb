{
 "cells": [
  {
   "cell_type": "code",
   "execution_count": 19,
   "id": "dc50a558",
   "metadata": {},
   "outputs": [
    {
     "name": "stdout",
     "output_type": "stream",
     "text": [
      "\n",
      "Phase Flip Code\n",
      "----------------\n",
      "\n",
      "Phase flip code with error\n",
      "----------------------\n"
     ]
    },
    {
     "data": {
      "image/png": "[encoded data removed]",
      "text/plain": [
       "<Figure size 504x360 with 1 Axes>"
      ]
     },
     "execution_count": 19,
     "metadata": {},
     "output_type": "execute_result"
    }
   ],
   "source": [
    "from qiskit import QuantumRegister, Aer, transpile\n",
    "from qiskit import QuantumRegister, ClassicalRegister\n",
    "from qiskit import QuantumCircuit, execute,IBMQ\n",
    "from qiskit.tools.monitor import job_monitor\n",
    "from qiskit.tools.visualization import plot_histogram, plot_state_city\n",
    "\n",
    "print('\\nPhase Flip Code')\n",
    "print('----------------')\n",
    "\n",
    "\n",
    "q = QuantumRegister(5,'q')\n",
    "c = ClassicalRegister(2,'c')\n",
    "\n",
    "circuit = QuantumCircuit(q,c)\n",
    "\n",
    "circuit.cx(q[0],q[1])\n",
    "circuit.cx(q[0],q[2])\n",
    "\n",
    "circuit.h(q[0])\n",
    "circuit.h(q[1])\n",
    "circuit.h(q[2]) \n",
    "circuit.barrier()\n",
    "circuit.z(q[2]) #Add this to simulate a phase flip error\n",
    "circuit.barrier()\n",
    "circuit.h(q[0])\n",
    "circuit.h(q[1])\n",
    "circuit.h(q[2])\n",
    "\n",
    "\n",
    "circuit.cx(q[0], q[3])\n",
    "circuit.cx(q[1], q[3])\n",
    "circuit.cx(q[1], q[4])\n",
    "circuit.cx(q[2], q[4])\n",
    "circuit.barrier()\n",
    "circuit.h(q[0])\n",
    "circuit.h(q[1])\n",
    "circuit.h(q[2])\n",
    "circuit.barrier()\n",
    "circuit.measure(q[3],c[0])\n",
    "circuit.measure(q[4],c[1])\n",
    "\n",
    "print(\"\\nPhase flip code with error\")\n",
    "print(\"----------------------\")\n",
    "#print(counts)\n",
    "circuit.draw('mpl')\n",
    "\n",
    "simulator = Aer.get_backend('aer_simulator')\n",
    "circ = transpile(circuit, simulator)\n",
    "\n",
    "# Run and get counts\n",
    "result = simulator.run(circ).result()\n",
    "counts = result.get_counts(circ)\n",
    "plot_histogram(counts, title='erreur')"
   ]
  },
  {
   "cell_type": "code",
   "execution_count": 5,
   "id": "1385385a",
   "metadata": {},
   "outputs": [
    {
     "name": "stdout",
     "output_type": "stream",
     "text": [
      "\n",
      "Phase Flip Code\n",
      "----------------\n",
      "\n",
      "Phase flip code with error\n",
      "----------------------\n"
     ]
    },
    {
     "data": {
      "image/png": "[encoded data removed]",
      "text/plain": [
       "<Figure size 628.397x264.88 with 1 Axes>"
      ]
     },
     "execution_count": 5,
     "metadata": {},
     "output_type": "execute_result"
    }
   ],
   "source": []
  },
  {
   "cell_type": "code",
   "execution_count": null,
   "id": "70e599e3",
   "metadata": {},
   "outputs": [],
   "source": [
    "from qiskit import QuantumRegister\n",
    "from qiskit import QuantumRegister, ClassicalRegister\n",
    "from qiskit import QuantumCircuit, execute,IBMQ\n",
    "from qiskit.tools.monitor import job_monitor\n",
    "\n",
    "print('\\nPhase Flip Code')\n",
    "print('----------------')\n",
    "\n",
    "IBMQ.enable_account('18c3e76619e594b0b2bdf2398b4305831642f1d617caf4d46afa1fd8f977df9ac26f2134b53fc45561f30e5a4513a6d692688a6902add5f7d45322195300e02d')\n",
    "provider = IBMQ.get_provider(hub='ibm-q')\n",
    "\n",
    "backend = provider.get_backend('ibmq_belem')\n",
    "\n",
    "q = QuantumRegister(5,'q')\n",
    "c = ClassicalRegister(1,'c')\n",
    "\n",
    "circuit = QuantumCircuit(q,c)\n",
    "\n",
    "circuit.cx(q[0],q[1])\n",
    "circuit.cx(q[0],q[2])\n",
    "\n",
    "circuit.h(q[0])\n",
    "circuit.h(q[1])\n",
    "circuit.h(q[2]) \n",
    "circuit.z(q[0]) #Add this to simulate a phase flip error\n",
    "circuit.h(q[0])\n",
    "circuit.h(q[1])\n",
    "circuit.h(q[2])\n",
    "\n",
    "circuit.cx(q[0],q[1])\n",
    "circuit.cx(q[0],q[2])\n",
    "circuit.ccx(q[2],q[1],q[0])\n",
    "circuit.measure(q[0],c[0])\n",
    "\n",
    "job = execute(circuit, backend, shots=1000)\n",
    "\n",
    "job_monitor(job)\n",
    "\n",
    "counts = job.result().get_counts()\n",
    "\n",
    "print(\"\\nPhase flip code with error\")\n",
    "print(\"----------------------\")\n",
    "print(counts)"
   ]
  }
 ],
 "metadata": {
  "kernelspec": {
   "display_name": "Python 3 (ipykernel)",
   "language": "python",
   "name": "python3"
  },
  "language_info": {
   "codemirror_mode": {
    "name": "ipython",
    "version": 3
   },
   "file_extension": ".py",
   "mimetype": "text/x-python",
   "name": "python",
   "nbconvert_exporter": "python",
   "pygments_lexer": "ipython3",
   "version": "3.9.7"
  }
 },
 "nbformat": 4,
 "nbformat_minor": 5
}
