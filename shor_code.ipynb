{
 "cells": [
  {
   "cell_type": "markdown",
   "id": "52848698",
   "metadata": {},
   "source": [
    "# Application du Shor code"
   ]
  },
  {
   "cell_type": "code",
   "execution_count": 1,
   "id": "68dd7027",
   "metadata": {},
   "outputs": [],
   "source": [
    "from qiskit import execute, QuantumRegister, ClassicalRegister, QuantumCircuit, BasicAer\n",
    "from qiskit.visualization import *\n",
    "import qiskit.quantum_info as qi\n",
    "backend = BasicAer.get_backend('qasm_simulator')"
   ]
  },
  {
   "cell_type": "code",
   "execution_count": 2,
   "id": "7ef2b378",
   "metadata": {},
   "outputs": [
    {
     "name": "stdout",
     "output_type": "stream",
     "text": [
      "\\documentclass[border=2px]{standalone}\n",
      "        \n",
      "\\usepackage[braket, qm]{qcircuit}\n",
      "\\usepackage{graphicx}\n",
      "\n",
      "\\begin{document} \n",
      "\\scalebox{1.0}{\n",
      "\\Qcircuit @C=1.0em @R=0.2em @!R { \\\\\n",
      "\t \t\\nghost{ {q}_{0} :  } & \\lstick{ {q}_{0} :  } & \\ctrl{3} & \\ctrl{6} & \\gate{\\mathrm{H}} & \\ctrl{1} & \\ctrl{2} & \\qw & \\qw\\\\ \n",
      "\t \t\\nghost{ {q}_{1} :  } & \\lstick{ {q}_{1} :  } & \\qw & \\qw & \\qw & \\targ & \\qw & \\qw & \\qw\\\\ \n",
      "\t \t\\nghost{ {q}_{2} :  } & \\lstick{ {q}_{2} :  } & \\qw & \\qw & \\qw & \\qw & \\targ & \\qw & \\qw\\\\ \n",
      "\t \t\\nghost{ {q}_{3} :  } & \\lstick{ {q}_{3} :  } & \\targ & \\qw & \\gate{\\mathrm{H}} & \\ctrl{1} & \\ctrl{2} & \\qw & \\qw\\\\ \n",
      "\t \t\\nghost{ {q}_{4} :  } & \\lstick{ {q}_{4} :  } & \\qw & \\qw & \\qw & \\targ & \\qw & \\qw & \\qw\\\\ \n",
      "\t \t\\nghost{ {q}_{5} :  } & \\lstick{ {q}_{5} :  } & \\qw & \\qw & \\qw & \\qw & \\targ & \\qw & \\qw\\\\ \n",
      "\t \t\\nghost{ {q}_{6} :  } & \\lstick{ {q}_{6} :  } & \\qw & \\targ & \\gate{\\mathrm{H}} & \\ctrl{1} & \\ctrl{2} & \\qw & \\qw\\\\ \n",
      "\t \t\\nghost{ {q}_{7} :  } & \\lstick{ {q}_{7} :  } & \\qw & \\qw & \\qw & \\targ & \\qw & \\qw & \\qw\\\\ \n",
      "\t \t\\nghost{ {q}_{8} :  } & \\lstick{ {q}_{8} :  } & \\qw & \\qw & \\qw & \\qw & \\targ & \\qw & \\qw\\\\ \n",
      "\\\\ }}\n",
      "\\end{document}\n"
     ]
    }
   ],
   "source": [
    "def preparation_shor_code():\n",
    "    preparation_circuit = QuantumCircuit(9)\n",
    "    #étendre l'etat de q_0 sur q_3 et q_6\n",
    "    for i in [3,6] : preparation_circuit.cx(0, i)\n",
    "    #appliquer les portes de hadamard \n",
    "    for i in [0,3,6] : preparation_circuit.h(i)\n",
    "    #étendre les etats des q_0/3/6 sur leur sous groupes \n",
    "    for i in [0,3,6] : \n",
    "        for j in range(1, 3):\n",
    "            preparation_circuit.cx(i, i+j)\n",
    "    #circuit de préparation fini\n",
    "    print(preparation_circuit.draw(output=\"latex_source\") )\n",
    "    preparation_gate = preparation_circuit.to_gate()\n",
    "    preparation_gate.name = \"Preparation shore code\"\n",
    "    return preparation_gate\n",
    "preparation_gate = preparation_shor_code()"
   ]
  },
  {
   "cell_type": "code",
   "execution_count": 3,
   "id": "65ded6dd",
   "metadata": {},
   "outputs": [
    {
     "name": "stdout",
     "output_type": "stream",
     "text": [
      "\\documentclass[border=2px]{standalone}\n",
      "        \n",
      "\\usepackage[braket, qm]{qcircuit}\n",
      "\\usepackage{graphicx}\n",
      "\n",
      "\\begin{document} \n",
      "\\scalebox{1.0}{\n",
      "\\Qcircuit @C=1.0em @R=0.2em @!R { \\\\\n",
      "\t \t\\nghost{ {q}_{0} :  } & \\lstick{ {q}_{0} :  } & \\ctrl{1} & \\ctrl{2} & \\targ & \\gate{\\mathrm{H}} & \\ctrl{3} & \\ctrl{6} & \\targ & \\qw & \\qw\\\\ \n",
      "\t \t\\nghost{ {q}_{1} :  } & \\lstick{ {q}_{1} :  } & \\targ & \\qw & \\ctrl{-1} & \\qw & \\qw & \\qw & \\qw & \\qw & \\qw\\\\ \n",
      "\t \t\\nghost{ {q}_{2} :  } & \\lstick{ {q}_{2} :  } & \\qw & \\targ & \\ctrl{-1} & \\qw & \\qw & \\qw & \\qw & \\qw & \\qw\\\\ \n",
      "\t \t\\nghost{ {q}_{3} :  } & \\lstick{ {q}_{3} :  } & \\ctrl{1} & \\ctrl{2} & \\targ & \\gate{\\mathrm{H}} & \\targ & \\qw & \\ctrl{-3} & \\qw & \\qw\\\\ \n",
      "\t \t\\nghost{ {q}_{4} :  } & \\lstick{ {q}_{4} :  } & \\targ & \\qw & \\ctrl{-1} & \\qw & \\qw & \\qw & \\qw & \\qw & \\qw\\\\ \n",
      "\t \t\\nghost{ {q}_{5} :  } & \\lstick{ {q}_{5} :  } & \\qw & \\targ & \\ctrl{-1} & \\qw & \\qw & \\qw & \\qw & \\qw & \\qw\\\\ \n",
      "\t \t\\nghost{ {q}_{6} :  } & \\lstick{ {q}_{6} :  } & \\ctrl{1} & \\ctrl{2} & \\targ & \\gate{\\mathrm{H}} & \\qw & \\targ & \\ctrl{-3} & \\qw & \\qw\\\\ \n",
      "\t \t\\nghost{ {q}_{7} :  } & \\lstick{ {q}_{7} :  } & \\targ & \\qw & \\ctrl{-1} & \\qw & \\qw & \\qw & \\qw & \\qw & \\qw\\\\ \n",
      "\t \t\\nghost{ {q}_{8} :  } & \\lstick{ {q}_{8} :  } & \\qw & \\targ & \\ctrl{-1} & \\qw & \\qw & \\qw & \\qw & \\qw & \\qw\\\\ \n",
      "\\\\ }}\n",
      "\\end{document}\n"
     ]
    }
   ],
   "source": [
    "def correction_shor_code():\n",
    "    correction_circuit = QuantumCircuit(9)\n",
    "    #on applique la correction de bit flip aux sous-groupes\n",
    "    for i in [0,3,6] : \n",
    "        for j in [1,2] : correction_circuit.cx(i, i+j)\n",
    "        correction_circuit.ccx(i+1, i+2, i)\n",
    "    #on applique la correction de sign flip au groupe [0,3,6]\n",
    "    for i in [0, 3, 6] : correction_circuit.h(i)\n",
    "    for i in [3, 6] : correction_circuit.cx(0, i)\n",
    "    correction_circuit.ccx(6, 3, 0)\n",
    "    #circuit de correction fini\n",
    "    print(correction_circuit.draw(output = \"latex_source\"))\n",
    "    correction_gate = correction_circuit.to_gate()\n",
    "    correction_gate.name = \"Correction shor code\"\n",
    "    return correction_gate\n",
    "correction_gate = correction_shor_code()"
   ]
  },
  {
   "cell_type": "markdown",
   "id": "09323308",
   "metadata": {},
   "source": [
    "On veut vérifier que le code de shor ne modifie pas q_0 si il n'y a pas d'erreur."
   ]
  },
  {
   "cell_type": "code",
   "execution_count": 5,
   "id": "700bcd16",
   "metadata": {},
   "outputs": [],
   "source": [
    "def print_state_vector(circuit):\n",
    "    \"\"\"Pour afficher proprement un vecteur d'etat\"\"\"\n",
    "    vector_dict = ector_dict = qi.Statevector.from_instruction(circuit).to_dict()\n",
    "    print('\\n'.join([\"{} : {}\".format(key, vector_dict[key]) for key in vector_dict.keys()]))"
   ]
  },
  {
   "cell_type": "code",
   "execution_count": 6,
   "id": "607565b3",
   "metadata": {},
   "outputs": [
    {
     "name": "stdout",
     "output_type": "stream",
     "text": [
      "Etat Initiale\n",
      "000000000 : (1+0j)\n",
      "\n",
      "Etat Finale\n",
      "000000000 : (0.9999999999999996+0j)\n",
      "000000001 : (1.905050747901445e-52+0j)\n",
      "000001000 : (9.52420782539596e-18+0j)\n",
      "000001001 : (-1.2183947074714076e-35+0j)\n",
      "001000000 : (2.3615800235104456e-17+0j)\n",
      "001000001 : (1.9205844302555546e-35+0j)\n",
      "001001000 : (6.223285321735372e-19+0j)\n",
      "001001001 : (1.2631615347037043e-34+0j)\n"
     ]
    }
   ],
   "source": [
    "#test non modiffication du bit corrigé\n",
    "circuit_test_1 = QuantumCircuit(9, 9)\n",
    "print(\"Etat Initiale\")\n",
    "print_state_vector(circuit_test_1)\n",
    "\n",
    "circuit_test_1.append(preparation_gate, range(9))\n",
    "circuit_test_1.append(correction_gate, range(9))\n",
    "print(\"\\nEtat Finale\")\n",
    "print_state_vector(circuit_test_1)"
   ]
  },
  {
   "cell_type": "markdown",
   "id": "3c0793ef",
   "metadata": {},
   "source": [
    "Cependant le vecteur d'etat final n'est pas le même que celui de l'etat initial.\n",
    "Cela est dû aux imprécisions de calcul.\n",
    "On peut cependant verifier qu'experimentalement cela fonctionne bien."
   ]
  },
  {
   "cell_type": "code",
   "execution_count": 7,
   "id": "b262a971",
   "metadata": {
    "scrolled": true
   },
   "outputs": [
    {
     "data": {
      "image/png": "[encoded data removed]",
      "text/plain": [
       "<Figure size 504x360 with 1 Axes>"
      ]
     },
     "execution_count": 7,
     "metadata": {},
     "output_type": "execute_result"
    }
   ],
   "source": [
    "circuit_test_1.measure(range(9), range(9))\n",
    "job = execute(circuit_test_1, backend, shots = 65000)\n",
    "res = job.result()\n",
    "plot_histogram(res.get_counts())"
   ]
  },
  {
   "cell_type": "markdown",
   "id": "161ad25f",
   "metadata": {},
   "source": [
    "Cependant si il y avait eu un changement de phase, nous ne l'auriont pas noté avec cette état initiale. On peut donc appliquer des portes de hadamard avant et après le circuit pour vérifier."
   ]
  },
  {
   "cell_type": "code",
   "execution_count": 8,
   "id": "465065ed",
   "metadata": {},
   "outputs": [
    {
     "name": "stdout",
     "output_type": "stream",
     "text": [
      "\\documentclass[border=2px]{standalone}\n",
      "        \n",
      "\\usepackage[braket, qm]{qcircuit}\n",
      "\\usepackage{graphicx}\n",
      "\n",
      "\\begin{document} \n",
      "\\scalebox{1.0}{\n",
      "\\Qcircuit @C=1.0em @R=0.2em @!R { \\\\\n",
      "\t \t\\nghost{ {q}_{0} :  } & \\lstick{ {q}_{0} :  } & \\gate{\\mathrm{H}} & \\multigate{8}{\\mathrm{Preparation\\,shore\\,code}}_<<<{0} & \\multigate{8}{\\mathrm{Correction\\,shor\\,code}}_<<<{0} & \\gate{\\mathrm{H}} & \\qw & \\qw & \\qw & \\qw & \\qw & \\qw & \\qw & \\meter & \\qw & \\qw\\\\ \n",
      "\t \t\\nghost{ {q}_{1} :  } & \\lstick{ {q}_{1} :  } & \\qw & \\ghost{\\mathrm{Preparation\\,shore\\,code}}_<<<{1} & \\ghost{\\mathrm{Correction\\,shor\\,code}}_<<<{1} & \\meter & \\qw & \\qw & \\qw & \\qw & \\qw & \\qw & \\qw & \\qw & \\qw & \\qw\\\\ \n",
      "\t \t\\nghost{ {q}_{2} :  } & \\lstick{ {q}_{2} :  } & \\qw & \\ghost{\\mathrm{Preparation\\,shore\\,code}}_<<<{2} & \\ghost{\\mathrm{Correction\\,shor\\,code}}_<<<{2} & \\qw & \\meter & \\qw & \\qw & \\qw & \\qw & \\qw & \\qw & \\qw & \\qw & \\qw\\\\ \n",
      "\t \t\\nghost{ {q}_{3} :  } & \\lstick{ {q}_{3} :  } & \\qw & \\ghost{\\mathrm{Preparation\\,shore\\,code}}_<<<{3} & \\ghost{\\mathrm{Correction\\,shor\\,code}}_<<<{3} & \\qw & \\qw & \\meter & \\qw & \\qw & \\qw & \\qw & \\qw & \\qw & \\qw & \\qw\\\\ \n",
      "\t \t\\nghost{ {q}_{4} :  } & \\lstick{ {q}_{4} :  } & \\qw & \\ghost{\\mathrm{Preparation\\,shore\\,code}}_<<<{4} & \\ghost{\\mathrm{Correction\\,shor\\,code}}_<<<{4} & \\qw & \\qw & \\qw & \\meter & \\qw & \\qw & \\qw & \\qw & \\qw & \\qw & \\qw\\\\ \n",
      "\t \t\\nghost{ {q}_{5} :  } & \\lstick{ {q}_{5} :  } & \\qw & \\ghost{\\mathrm{Preparation\\,shore\\,code}}_<<<{5} & \\ghost{\\mathrm{Correction\\,shor\\,code}}_<<<{5} & \\qw & \\qw & \\qw & \\qw & \\meter & \\qw & \\qw & \\qw & \\qw & \\qw & \\qw\\\\ \n",
      "\t \t\\nghost{ {q}_{6} :  } & \\lstick{ {q}_{6} :  } & \\qw & \\ghost{\\mathrm{Preparation\\,shore\\,code}}_<<<{6} & \\ghost{\\mathrm{Correction\\,shor\\,code}}_<<<{6} & \\qw & \\qw & \\qw & \\qw & \\qw & \\meter & \\qw & \\qw & \\qw & \\qw & \\qw\\\\ \n",
      "\t \t\\nghost{ {q}_{7} :  } & \\lstick{ {q}_{7} :  } & \\qw & \\ghost{\\mathrm{Preparation\\,shore\\,code}}_<<<{7} & \\ghost{\\mathrm{Correction\\,shor\\,code}}_<<<{7} & \\qw & \\qw & \\qw & \\qw & \\qw & \\qw & \\meter & \\qw & \\qw & \\qw & \\qw\\\\ \n",
      "\t \t\\nghost{ {q}_{8} :  } & \\lstick{ {q}_{8} :  } & \\qw & \\ghost{\\mathrm{Preparation\\,shore\\,code}}_<<<{8} & \\ghost{\\mathrm{Correction\\,shor\\,code}}_<<<{8} & \\qw & \\qw & \\qw & \\qw & \\qw & \\qw & \\qw & \\meter & \\qw & \\qw & \\qw\\\\ \n",
      "\t \t\\nghost{c:} & \\lstick{c:} & \\lstick{/_{_{9}}} \\cw & \\cw & \\cw & \\dstick{_{_{1}}} \\cw \\cwx[-8] & \\dstick{_{_{2}}} \\cw \\cwx[-7] & \\dstick{_{_{3}}} \\cw \\cwx[-6] & \\dstick{_{_{4}}} \\cw \\cwx[-5] & \\dstick{_{_{5}}} \\cw \\cwx[-4] & \\dstick{_{_{6}}} \\cw \\cwx[-3] & \\dstick{_{_{7}}} \\cw \\cwx[-2] & \\dstick{_{_{8}}} \\cw \\cwx[-1] & \\dstick{_{_{0}}} \\cw \\cwx[-9] & \\cw & \\cw\\\\ \n",
      "\\\\ }}\n",
      "\\end{document}\n"
     ]
    }
   ],
   "source": [
    "phase_test = QuantumCircuit(9, 9)\n",
    "phase_test.h(0)\n",
    "phase_test.append(preparation_gate, range(9))\n",
    "phase_test.append(correction_gate, range(9))\n",
    "phase_test.h(0)\n",
    "phase_test.measure(range(9), range(9))\n",
    "print(phase_test.draw(output = \"latex_source\"))"
   ]
  },
  {
   "cell_type": "code",
   "execution_count": 9,
   "id": "6e830856",
   "metadata": {},
   "outputs": [
    {
     "data": {
      "image/png": "[encoded data removed]",
      "text/plain": [
       "<Figure size 504x360 with 1 Axes>"
      ]
     },
     "execution_count": 9,
     "metadata": {},
     "output_type": "execute_result"
    }
   ],
   "source": [
    "job = execute(phase_test, backend)\n",
    "plot_histogram(job.result().get_counts())"
   ]
  },
  {
   "cell_type": "markdown",
   "id": "5b37c601",
   "metadata": {},
   "source": [
    "On retrouve bien l'etat initiale. Comme attendu le code de shor est équivalent à un opération identité si il n'y a pas d'erreur à corriger."
   ]
  },
  {
   "cell_type": "code",
   "execution_count": 10,
   "id": "1f1dd823",
   "metadata": {},
   "outputs": [],
   "source": [
    "#réalisation porte erreur \n",
    "def erreur(bits_flip = [], phase_flip = []):\n",
    "    erreur_circuit = QuantumCircuit(9)\n",
    "    for i in bits_flip : erreur_circuit.x(i)\n",
    "    for i in phase_flip : erreur_circuit.z(i)\n",
    "    erreur_gate = erreur_circuit.to_gate()\n",
    "    erreur_gate.name = \"Erreur\"\n",
    "    return erreur_gate"
   ]
  },
  {
   "cell_type": "markdown",
   "id": "428cc97a",
   "metadata": {},
   "source": [
    "On ne peut pas obtenir un vecteur d'etat pleinement satisfaisant, nous ne pouvons donc qu'utiliser la mesure pour constater l'éfficacité du code correcteur.\n",
    "D'abord constatons que l'on visualise bien les erreurs."
   ]
  },
  {
   "cell_type": "code",
   "execution_count": 11,
   "id": "08f0b403",
   "metadata": {},
   "outputs": [
    {
     "data": {
      "image/png": "[encoded data removed]",
      "text/plain": [
       "<Figure size 504x360 with 1 Axes>"
      ]
     },
     "execution_count": 11,
     "metadata": {},
     "output_type": "execute_result"
    }
   ],
   "source": [
    "#voir l'erreur de bit\n",
    "cr = QuantumCircuit(9, 1)\n",
    "cr.append(erreur([0]), range(9))\n",
    "cr.measure(0, 0)\n",
    "job = execute(cr, backend)\n",
    "plot_histogram(job.result().get_counts(), title = \"Erreur de bit\")"
   ]
  },
  {
   "cell_type": "markdown",
   "id": "f0d08afc",
   "metadata": {},
   "source": [
    "On constate bien l'erreur de bit, cependant on ne constaterais pas l'erreur de signe."
   ]
  },
  {
   "cell_type": "code",
   "execution_count": 12,
   "id": "a369c7f5",
   "metadata": {},
   "outputs": [
    {
     "data": {
      "image/png": "[encoded data removed]",
      "text/plain": [
       "<Figure size 504x360 with 1 Axes>"
      ]
     },
     "execution_count": 12,
     "metadata": {},
     "output_type": "execute_result"
    }
   ],
   "source": [
    "#ne pas voir l'erreur de sign\n",
    "cr = QuantumCircuit(9, 1)\n",
    "cr.append(erreur(phase_flip = [0]), range(9))\n",
    "cr.measure(0, 0)\n",
    "job = execute(cr, backend)\n",
    "plot_histogram(job.result().get_counts(), title = \"On obtient 0 : pas de constat de l'erreur de signe\")"
   ]
  },
  {
   "cell_type": "markdown",
   "id": "46891cd7",
   "metadata": {},
   "source": [
    "Pour constater l'erreur de signe on applique un changement de base, on va dans la base (|+>,|->). En effet on a, HZH = X, donc une erreur de signe sera équivalente à une erreur de bit et sera constatable."
   ]
  },
  {
   "cell_type": "code",
   "execution_count": 13,
   "id": "4aa4c3b2",
   "metadata": {},
   "outputs": [
    {
     "data": {
      "image/png": "[encoded data removed]",
      "text/plain": [
       "<Figure size 504x360 with 1 Axes>"
      ]
     },
     "execution_count": 13,
     "metadata": {},
     "output_type": "execute_result"
    }
   ],
   "source": [
    "#voir l'erreur de sign\n",
    "cr = QuantumCircuit(9, 1)\n",
    "#Changer de base\n",
    "cr.h(0)\n",
    "#realiser l'erreur\n",
    "cr.append(erreur(phase_flip = [0]), range(9))\n",
    "#retourner dans le base de calcule\n",
    "cr.h(0)\n",
    "\n",
    "#mesurer l'erreur\n",
    "cr.measure(0, 0)\n",
    "job = execute(cr, backend)\n",
    "plot_histogram(job.result().get_counts(), title = \"Erreur de sign\")"
   ]
  },
  {
   "cell_type": "markdown",
   "id": "9a45b855",
   "metadata": {},
   "source": [
    "Ainsi pour constater la correction des erreurs de bit et de signe nous devrons réaliser deux circuit, avec et sans changement de base."
   ]
  },
  {
   "cell_type": "code",
   "execution_count": 14,
   "id": "82be51e6",
   "metadata": {},
   "outputs": [
    {
     "data": {
      "image/png": "[encoded data removed]",
      "text/plain": [
       "<Figure size 504x360 with 1 Axes>"
      ]
     },
     "execution_count": 14,
     "metadata": {},
     "output_type": "execute_result"
    }
   ],
   "source": [
    "#Visualisation de la correction de bit\n",
    "circuit = QuantumCircuit(9,1)\n",
    "\n",
    "#initialisation du code correctif\n",
    "circuit.append(preparation_gate, range(9))\n",
    "\n",
    "#application de l'erreur (de bit et de phase)\n",
    "circuit.append(erreur([0], [0]), range(9))\n",
    "\n",
    "#fin du code correctif\n",
    "circuit.append(correction_gate, range(9))\n",
    "\n",
    "#mesure du resultat\n",
    "circuit.measure(0, 0)\n",
    "job = execute(circuit, backend)\n",
    "plot_histogram(job.result().get_counts(), title = \"Erreur de bit corrigé\")"
   ]
  },
  {
   "cell_type": "code",
   "execution_count": 15,
   "id": "f29ab17f",
   "metadata": {
    "scrolled": true
   },
   "outputs": [
    {
     "data": {
      "image/png": "[encoded data removed]",
      "text/plain": [
       "<Figure size 504x360 with 1 Axes>"
      ]
     },
     "execution_count": 15,
     "metadata": {},
     "output_type": "execute_result"
    }
   ],
   "source": [
    "#Visualisation de la correction de signe\n",
    "circuit = QuantumCircuit(9,1)\n",
    "\n",
    "#changement de base\n",
    "circuit.h(0)\n",
    "\n",
    "#initialisation du code correctif\n",
    "circuit.append(preparation_gate, range(9))\n",
    "\n",
    "#application de l'erreur (de bit et de phase)\n",
    "circuit.append(erreur([0], [0]), range(9))\n",
    "\n",
    "#fin du code correctif\n",
    "circuit.append(correction_gate, range(9))\n",
    "\n",
    "#retour en base de calcul\n",
    "circuit.h(0)\n",
    "\n",
    "#mesure du resultat\n",
    "circuit.measure(0, 0)\n",
    "job = execute(circuit, backend)\n",
    "plot_histogram(job.result().get_counts(), title = \"Erreur de signe corrigé\")"
   ]
  }
 ],
 "metadata": {
  "kernelspec": {
   "display_name": "Python 3",
   "language": "python",
   "name": "python3"
  },
  "language_info": {
   "codemirror_mode": {
    "name": "ipython",
    "version": 3
   },
   "file_extension": ".py",
   "mimetype": "text/x-python",
   "name": "python",
   "nbconvert_exporter": "python",
   "pygments_lexer": "ipython3",
   "version": "3.8.8"
  }
 },
 "nbformat": 4,
 "nbformat_minor": 5
}
